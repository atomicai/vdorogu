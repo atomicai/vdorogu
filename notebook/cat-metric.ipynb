{
 "cells": [
  {
   "cell_type": "code",
   "execution_count": null,
   "metadata": {},
   "outputs": [],
   "source": [
    "import catalyst as cat\n",
    "from catalyst import metrics\n",
    "import numpy as np\n",
    "from typing import Union, List, Iterable"
   ]
  },
  {
   "cell_type": "code",
   "execution_count": null,
   "metadata": {},
   "outputs": [],
   "source": [
    "class Monitor:\n",
    "    def __init__(self, num_classes: int):\n",
    "        self.monitor = {key: metrics.AdditiveMetric(compute_on_call=False) for key in range(num_classes)}\n",
    "\n",
    "    def update(self, key, value: Union[np.ndarray, List[np.ndarray]], n: int = 1):\n",
    "        \"\"\"\n",
    "        key: the class name to update embedding(s) for\n",
    "        value: embedding\n",
    "        \"\"\"\n",
    "        if isinstance(value, np.ndarray) or not isinstance(value, Iterable):\n",
    "            self.monitor[key].update(value, n)\n",
    "        else:\n",
    "            for vec in value:\n",
    "                self.monitor[key].update(vec, 1)\n",
    "        return self\n",
    "\n",
    "    def compute(self, key=None):\n",
    "        response = {}\n",
    "        if key is not None:\n",
    "            return self.monitor[key].compute()[0]\n",
    "        for key in self.monitor.keys():\n",
    "            response[key] = self.monitor[key].compute()[0]\n",
    "        return response"
   ]
  },
  {
   "cell_type": "code",
   "execution_count": null,
   "metadata": {},
   "outputs": [],
   "source": [
    "monitor = Monitor(num_classes=3)"
   ]
  },
  {
   "cell_type": "code",
   "execution_count": null,
   "metadata": {},
   "outputs": [],
   "source": [
    "values = [1, 2, 3, 4, 5]\n",
    "pdf = [1, 2, 3, 4, 5]"
   ]
  },
  {
   "cell_type": "code",
   "execution_count": null,
   "metadata": {},
   "outputs": [],
   "source": [
    "metrika = metrics.AdditiveMetric(compute_on_call=False)"
   ]
  },
  {
   "cell_type": "code",
   "execution_count": null,
   "metadata": {},
   "outputs": [],
   "source": [
    "for val, cnt in zip(values, pdf):\n",
    "    metrika.update(value=val, num_samples=cnt)\n",
    "    mean, std = metrika.compute()\n",
    "    print(mean)\n",
    "    print(std)\n",
    "    print(\"###\\n\")"
   ]
  },
  {
   "cell_type": "code",
   "execution_count": null,
   "metadata": {},
   "outputs": [],
   "source": []
  }
 ],
 "metadata": {
  "kernelspec": {
   "display_name": "jarvis",
   "language": "python",
   "name": "python3"
  },
  "language_info": {
   "codemirror_mode": {
    "name": "ipython",
    "version": 3
   },
   "file_extension": ".py",
   "mimetype": "text/x-python",
   "name": "python",
   "nbconvert_exporter": "python",
   "pygments_lexer": "ipython3",
   "version": "3.10.10"
  },
  "orig_nbformat": 4
 },
 "nbformat": 4,
 "nbformat_minor": 2
}
