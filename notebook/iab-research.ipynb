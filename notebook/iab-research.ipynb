{
 "cells": [
  {
   "cell_type": "code",
   "execution_count": null,
   "metadata": {},
   "outputs": [],
   "source": [
    "import polars as pl\n",
    "from pathlib import Path\n",
    "import pandas as pd\n",
    "import collections\n",
    "import pyarrow as pa\n",
    "import pyarrow.parquet as pq\n",
    "from typing import List, Dict\n",
    "from vkai.connecting import SparkIgnitor"
   ]
  },
  {
   "cell_type": "code",
   "execution_count": null,
   "metadata": {},
   "outputs": [],
   "source": [
    "spark = SparkIgnitor()"
   ]
  },
  {
   "cell_type": "code",
   "execution_count": null,
   "metadata": {},
   "outputs": [],
   "source": [
    "# client = spark.connect()"
   ]
  },
  {
   "cell_type": "code",
   "execution_count": null,
   "metadata": {},
   "outputs": [],
   "source": [
    "def generate_query_for_device(device:str, limit=2_500_000):\n",
    "    m = dict(google=\"ods_targetdb_data.google_app\", apple=\"ods_targetdb.apple_app\")\n",
    "    assert device in m.keys(), f\"{device} can be either <apple> or <google>\"\n",
    "    table = m[device]\n",
    "    query = f\"\"\"\n",
    "        SELECT p.title, p.category_id FROM {table} as p\n",
    "        LIMIT {str(limit)}\n",
    "    \"\"\"\n",
    "    return query"
   ]
  },
  {
   "cell_type": "code",
   "execution_count": null,
   "metadata": {},
   "outputs": [],
   "source": [
    "def request_for_device(client, device:str, limit):\n",
    "    query = generate_query_for_device(device=device, limit=int(limit))\n",
    "    handle = client.sql(query)\n",
    "    response = handle.toPandas()\n",
    "    _pl_response = pl.from_pandas(response).with_columns([\n",
    "            pl.lit(device).alias(\"source\")\n",
    "        ])\n",
    "    return _pl_response"
   ]
  },
  {
   "cell_type": "code",
   "execution_count": null,
   "metadata": {},
   "outputs": [],
   "source": [
    "# db_ios = request_for_device(client=client, device=\"apple\", limit=1_000_000)\n",
    "# db_droid = request_for_device(client=client, device=\"google\", limit=1_000_000)\n",
    "# db = pl.concat([db_ios, db_droid])"
   ]
  },
  {
   "cell_type": "code",
   "execution_count": null,
   "metadata": {},
   "outputs": [],
   "source": [
    "where = Path.home() / \"IDataset\" / \"mobapp\" / \"mobapp.parquet\"\n",
    "where_ios = Path.home() / \"IDataset\" / \"mobapp\" / \"ios_iab_category.csv\"\n",
    "where_droid = Path.home() / \"IDataset\" / \"mobapp\" / \"droid_iab_category.csv\"\n",
    "where_iab = Path.home() / \"IDataset\" / \"mobapp\" / \"iab_category.csv\""
   ]
  },
  {
   "cell_type": "code",
   "execution_count": null,
   "metadata": {},
   "outputs": [],
   "source": [
    "dp = pq.read_table(where)"
   ]
  },
  {
   "cell_type": "code",
   "execution_count": null,
   "metadata": {},
   "outputs": [],
   "source": [
    "df = pl.from_arrow(dp)"
   ]
  },
  {
   "cell_type": "code",
   "execution_count": null,
   "metadata": {},
   "outputs": [],
   "source": [
    "df.shape"
   ]
  },
  {
   "cell_type": "code",
   "execution_count": null,
   "metadata": {},
   "outputs": [],
   "source": [
    "df.head()"
   ]
  },
  {
   "cell_type": "code",
   "execution_count": null,
   "metadata": {},
   "outputs": [],
   "source": [
    "df_ios = pl.read_csv(where_ios)\n",
    "df_droid = pl.read_csv(where_droid)\n",
    "df_meta_iab = pl.read_csv(where_iab)"
   ]
  },
  {
   "cell_type": "code",
   "execution_count": null,
   "metadata": {},
   "outputs": [],
   "source": [
    "df_meta_iab.head()"
   ]
  },
  {
   "cell_type": "code",
   "execution_count": null,
   "metadata": {},
   "outputs": [],
   "source": [
    "df_ios.head()\n",
    "# `category_id` соединяется с основной таблицей (выгрузкой приложух)\n",
    "# Но если напрямую это сделать, то не будет информации про класс `iab_category_name`. \n",
    "# Для этого надо сделать mapping с табличкой `iab_category`. по колонке `iab_category_id`"
   ]
  },
  {
   "cell_type": "code",
   "execution_count": null,
   "metadata": {},
   "outputs": [],
   "source": [
    "df_meta_iab.head()"
   ]
  },
  {
   "cell_type": "code",
   "execution_count": null,
   "metadata": {},
   "outputs": [],
   "source": [
    "print(df_ios.shape)\n",
    "df_ios.head()"
   ]
  },
  {
   "cell_type": "code",
   "execution_count": null,
   "metadata": {},
   "outputs": [],
   "source": [
    "from vkai.processing import _pl_unique"
   ]
  },
  {
   "cell_type": "code",
   "execution_count": null,
   "metadata": {},
   "outputs": [],
   "source": [
    "df_ios = _pl_unique(df_ios, column_name=\"category_id\")\n",
    "df_droid = _pl_unique(df_droid, column_name=\"category_id\")"
   ]
  },
  {
   "cell_type": "code",
   "execution_count": null,
   "metadata": {},
   "outputs": [],
   "source": [
    "df_meta_iab_ios = df_meta_iab.rename({\"id\": \"iab_category_id\"}).select([\"iab_category_id\", \"tier1\", \"tier2\", \"tier3\", \"parent_id\", \"name\", \"description\"]).join(df_ios, on=\"iab_category_id\").select([\"iab_category_id\", \"category_id\", \"parent_id\", \"name\", \"description\"]).rename({\"name\": \"iab_category_name\"})\n",
    "df_meta_iab_droid = df_meta_iab.rename({\"id\": \"iab_category_id\"}).select([\"iab_category_id\", \"tier1\", \"tier2\", \"tier3\", \"parent_id\", \"name\", \"description\"]).join(df_droid, on=\"iab_category_id\").select([\"iab_category_id\", \"category_id\", \"parent_id\", \"name\", \"description\"]).rename({\"name\": \"iab_category_name\"})"
   ]
  },
  {
   "cell_type": "code",
   "execution_count": null,
   "metadata": {},
   "outputs": [],
   "source": [
    "db_cat = set(df[\"category_id\"]) # 108\n",
    "db_meta_iab_ios = set(df_meta_iab_ios[\"category_id\"]) # 58"
   ]
  },
  {
   "cell_type": "code",
   "execution_count": null,
   "metadata": {},
   "outputs": [],
   "source": [
    "db_meta_iab_ios - db_cat"
   ]
  },
  {
   "cell_type": "code",
   "execution_count": null,
   "metadata": {},
   "outputs": [],
   "source": [
    "df_meta_iab_ios.filter(pl.col(\"iab_category_id\") == 239) \n",
    "# На одну категорию таксономийную IAB категорию - хобби и интересы\n",
    "# приходится 8 разных категорий ios (разметка стора)."
   ]
  },
  {
   "cell_type": "code",
   "execution_count": null,
   "metadata": {},
   "outputs": [],
   "source": [
    "from vkai.processing import _pl_count"
   ]
  },
  {
   "cell_type": "code",
   "execution_count": null,
   "metadata": {},
   "outputs": [],
   "source": [
    "_pl_count(df_meta_iab_ios, column_name=\"iab_category_id\")"
   ]
  },
  {
   "cell_type": "code",
   "execution_count": null,
   "metadata": {},
   "outputs": [],
   "source": [
    "df_droid.head()"
   ]
  },
  {
   "cell_type": "code",
   "execution_count": null,
   "metadata": {},
   "outputs": [],
   "source": [
    "df_droid.sort(\"category_id\")"
   ]
  },
  {
   "cell_type": "code",
   "execution_count": null,
   "metadata": {},
   "outputs": [],
   "source": [
    "df_meta_iab_droid.sort(\"category_id\")"
   ]
  },
  {
   "cell_type": "code",
   "execution_count": null,
   "metadata": {},
   "outputs": [],
   "source": [
    "def build_graph(_pl_graph_meta):\n",
    "    import networkx as nx\n",
    "    cix, pix, nix = list(_pl_graph_meta[\"iab_category_id\"]), list(_pl_graph_meta[\"parent_id\"]), list(_pl_graph_meta[\"description\"])\n",
    "    g = nx.DiGraph()\n",
    "    for ci, pi, ni in zip(cix, pix, nix):\n",
    "        g.add_node(ci, label=ni)\n",
    "        if pi != 0:\n",
    "            g.add_edge(pi, ci)\n",
    "    return g"
   ]
  },
  {
   "cell_type": "code",
   "execution_count": null,
   "metadata": {},
   "outputs": [],
   "source": [
    "_g_droid = build_graph(df_meta_iab_droid)"
   ]
  },
  {
   "cell_type": "code",
   "execution_count": null,
   "metadata": {},
   "outputs": [],
   "source": [
    "import networkx as nx"
   ]
  },
  {
   "cell_type": "code",
   "execution_count": null,
   "metadata": {},
   "outputs": [],
   "source": [
    "# 1. type -> application vs album vs game\n",
    "# 2. category"
   ]
  },
  {
   "cell_type": "code",
   "execution_count": null,
   "metadata": {},
   "outputs": [],
   "source": [
    "from vkai.processing import _pl_project, _pl_count"
   ]
  },
  {
   "cell_type": "code",
   "execution_count": null,
   "metadata": {},
   "outputs": [],
   "source": [
    "_pl_count"
   ]
  },
  {
   "cell_type": "code",
   "execution_count": null,
   "metadata": {},
   "outputs": [],
   "source": [
    "response_ios = _pl_count(df.join(df_meta_iab_ios, on=\"category_id\"), column_name=\"iab_category_name\")"
   ]
  },
  {
   "cell_type": "code",
   "execution_count": null,
   "metadata": {},
   "outputs": [],
   "source": [
    "response_droid = _pl_count(df.join(df_meta_iab_droid, on=\"category_id\"), column_name=\"iab_category_name\")"
   ]
  },
  {
   "cell_type": "code",
   "execution_count": null,
   "metadata": {},
   "outputs": [],
   "source": [
    "def _pl_indicator(db, proj, on:str, probs_col:str = \"description\"):\n",
    "    projected = db.join(proj, on=on).with_row_count().with_columns([\n",
    "        pl.count(\"row_nr\").over(probs_col).alias(\"counts_per_iab\"),\n",
    "        pl.first(\"row_nr\").over(probs_col).alias(\"mask\")\n",
    "    ]).filter(pl.col(\"mask\") == pl.col(\"row_nr\")).sort(\"counts_per_iab\", descending=True)\n",
    "    \n",
    "    return projected\n",
    "    # df.rename({\"category_id\": \"iab_category_id\"}).join(df_meta_iab_ios, on=\"iab_category_id\")"
   ]
  },
  {
   "cell_type": "code",
   "execution_count": null,
   "metadata": {},
   "outputs": [],
   "source": [
    "# db_droid = _pl_indicator(df, df_meta_iab_droid, on=\"category_id\", probs_col=\"iab_category_name\", title=\"Android\")"
   ]
  },
  {
   "cell_type": "code",
   "execution_count": null,
   "metadata": {},
   "outputs": [],
   "source": [
    "# db_ios = _pl_indicator(df, df_meta_iab_ios, on=\"category_id\", probs_col=\"iab_category_name\", title=\"iOS\")"
   ]
  },
  {
   "cell_type": "code",
   "execution_count": null,
   "metadata": {},
   "outputs": [],
   "source": [
    "# probs_ios = db_ios.with_row_count().with_columns([\n",
    "#     pl.count(\"row_nr\").over(\"description_right\").alias(\"counts\"),\n",
    "#     pl.first(\"row_nr\").over(\"description_right\").alias(\"mask_counts\")\n",
    "# ]).filter(pl.col(\"mask_counts\") == pl.col(\"row_nr\"))"
   ]
  },
  {
   "cell_type": "code",
   "execution_count": null,
   "metadata": {},
   "outputs": [],
   "source": [
    "# probs_droid = db_droid.with_row_count().with_columns([\n",
    "#     pl.count(\"row_nr\").over(\"description_right\").alias(\"counts\"),\n",
    "#     pl.first(\"row_nr\").over(\"description_right\").alias(\"mask_counts\")\n",
    "# ]).filter(pl.col(\"mask_counts\") == pl.col(\"row_nr\"))"
   ]
  },
  {
   "cell_type": "code",
   "execution_count": null,
   "metadata": {},
   "outputs": [],
   "source": [
    "probs_ios_x, probs_ios_y = list(response_ios[\"iab_category_name\"]), list(response_ios[\"counts_per_iab_category_name\"])\n",
    "probs_droid_x, probs_droid_y = list(response_droid[\"iab_category_name\"]), list(response_droid[\"counts_per_iab_category_name\"])"
   ]
  },
  {
   "cell_type": "code",
   "execution_count": null,
   "metadata": {},
   "outputs": [],
   "source": [
    "def jotai(xs, ys, title=\"Y\"):\n",
    "    import plotly.express as px\n",
    "    fig = px.bar(x=xs, y=ys)\n",
    "    fig.update_layout(\n",
    "        title=dict(text=title, font=dict(size=14), automargin=False, yref='paper'),\n",
    "            xaxis={'type': 'category'}\n",
    "        )\n",
    "    fig.update_layout(yaxis_title=None)\n",
    "    fig.update_layout(xaxis_title=None)\n",
    "    fig.update_xaxes(tickfont_size=9, ticks=\"outside\", ticklen=0.5, tickwidth=1)\n",
    "    return fig"
   ]
  },
  {
   "cell_type": "code",
   "execution_count": null,
   "metadata": {},
   "outputs": [],
   "source": [
    "fig_ios = jotai(probs_ios_x, probs_ios_y, \"IOS по разметке IAB\")\n",
    "fig_droid = jotai(probs_droid_x, probs_droid_y, \"ANDROID по разметке IAB\")"
   ]
  },
  {
   "cell_type": "code",
   "execution_count": null,
   "metadata": {},
   "outputs": [],
   "source": [
    "fig_ios"
   ]
  },
  {
   "cell_type": "code",
   "execution_count": null,
   "metadata": {},
   "outputs": [],
   "source": [
    "fig_droid"
   ]
  },
  {
   "cell_type": "code",
   "execution_count": null,
   "metadata": {},
   "outputs": [],
   "source": [
    "import plotly.io as pio"
   ]
  },
  {
   "cell_type": "code",
   "execution_count": null,
   "metadata": {},
   "outputs": [],
   "source": [
    "pio.write_image(fig_ios, file=\"ios_iab_name.png\", scale=5, engine=\"kaleido\")\n",
    "pio.write_image(fig_droid, file=\"droid_iab_name.png\", scale=5, engine=\"kaleido\")"
   ]
  },
  {
   "cell_type": "code",
   "execution_count": null,
   "metadata": {},
   "outputs": [],
   "source": [
    "len(set(probs_droid_x))"
   ]
  },
  {
   "cell_type": "code",
   "execution_count": null,
   "metadata": {},
   "outputs": [],
   "source": [
    "set(probs_ios_x).difference(probs_droid_x)"
   ]
  },
  {
   "cell_type": "code",
   "execution_count": null,
   "metadata": {},
   "outputs": [],
   "source": [
    "list(\n",
    "    df.with_columns([\n",
    "    pl.col(\"title\").str.contains(\"Недвижимость\").alias(\"_mask1\"),\n",
    "    pl.col(\"source\").str.contains(\"apple\").alias(\"_mask2\")\n",
    "]).filter(pl.col(\"_mask1\") & pl.col(\"_mask2\")).join(df_meta_iab_ios, on=\"category_id\").select([\"iab_category_name\"])[\"iab_category_name\"]\n",
    ")"
   ]
  },
  {
   "cell_type": "code",
   "execution_count": null,
   "metadata": {},
   "outputs": [],
   "source": [
    "list(df.join(df_meta_iab_ios, on=\"category_id\").select([\"title\", \"iab_category_name\"]).with_columns([\n",
    "    pl.col(\"iab_category_name\").str.contains(\"Movies\").alias(\"mask\")\n",
    "]).filter(\"mask\")[\"title\"])"
   ]
  },
  {
   "cell_type": "code",
   "execution_count": null,
   "metadata": {},
   "outputs": [],
   "source": [
    "_df = _pl_count(df, column_name=\"category_id\")"
   ]
  },
  {
   "cell_type": "code",
   "execution_count": null,
   "metadata": {},
   "outputs": [],
   "source": [
    "_df"
   ]
  },
  {
   "cell_type": "code",
   "execution_count": null,
   "metadata": {},
   "outputs": [],
   "source": [
    "_df.select([\"category_id\", \"counts_per_category_id\"]).head()"
   ]
  },
  {
   "cell_type": "code",
   "execution_count": null,
   "metadata": {},
   "outputs": [],
   "source": [
    "import plotly.express as px\n",
    "import plotly.io as pio"
   ]
  },
  {
   "cell_type": "code",
   "execution_count": null,
   "metadata": {},
   "outputs": [],
   "source": [
    "_df.filter(pl.col(\"category\") == \"Спорт\")"
   ]
  },
  {
   "cell_type": "code",
   "execution_count": null,
   "metadata": {},
   "outputs": [],
   "source": [
    "_df = _df.sort(\"category_id\")"
   ]
  },
  {
   "cell_type": "code",
   "execution_count": null,
   "metadata": {},
   "outputs": [],
   "source": [
    "px.line(x=_df[\"category_id\"], y=_df[\"counts_per_category_id\"], color_discrete_sequence=px.colors.sequential.GnBu_r)"
   ]
  },
  {
   "cell_type": "code",
   "execution_count": null,
   "metadata": {},
   "outputs": [],
   "source": []
  }
 ],
 "metadata": {
  "kernelspec": {
   "display_name": "optimus",
   "language": "python",
   "name": "python3"
  },
  "language_info": {
   "codemirror_mode": {
    "name": "ipython",
    "version": 3
   },
   "file_extension": ".py",
   "mimetype": "text/x-python",
   "name": "python",
   "nbconvert_exporter": "python",
   "pygments_lexer": "ipython3",
   "version": "3.10.12"
  },
  "orig_nbformat": 4
 },
 "nbformat": 4,
 "nbformat_minor": 2
}
